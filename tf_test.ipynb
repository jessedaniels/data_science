{
  "nbformat": 4,
  "nbformat_minor": 0,
  "metadata": {
    "colab": {
      "name": "tf_test.ipynb",
      "version": "0.3.2",
      "provenance": [],
      "collapsed_sections": []
    },
    "kernelspec": {
      "name": "python3",
      "display_name": "Python 3"
    },
    "accelerator": "GPU"
  },
  "cells": [
    {
      "cell_type": "markdown",
      "metadata": {
        "id": "view-in-github",
        "colab_type": "text"
      },
      "source": [
        "[View in Colaboratory](https://colab.research.google.com/github/jessedaniels/data_science/blob/master/tf_test.ipynb)"
      ]
    },
    {
      "metadata": {
        "id": "Rvp0UUwUTy6H",
        "colab_type": "code",
        "colab": {
          "base_uri": "https://localhost:8080/",
          "height": 35
        },
        "outputId": "841498b3-4e8b-48a5-fa73-3144fe2546dc"
      },
      "cell_type": "code",
      "source": [
        "import tensorflow as tf\n",
        "! pip install dropbox\n",
        "\n",
        "device_name = tf.test.gpu_device_name()\n",
        "if device_name != '/device:GPU:0':\n",
        "  raise SystemError('GPU device not found')\n",
        "print('Found GPU at: {}'.format(device_name))"
      ],
      "execution_count": 1,
      "outputs": [
        {
          "output_type": "stream",
          "text": [
            "Found GPU at: /device:GPU:0\n"
          ],
          "name": "stdout"
        }
      ]
    },
    {
      "metadata": {
        "id": "88Dh4ZwcUXxx",
        "colab_type": "code",
        "colab": {}
      },
      "cell_type": "code",
      "source": [
        "get_ipython().system_raw(\n",
        "    'tensorboard --logdir . --host 0.0.0.0 --port 6006 &'\n",
        ")\n",
        "! wget https://bin.equinox.io/c/4VmDzA7iaHb/ngrok-stable-linux-amd64.zip\n",
        "! unzip ngrok-stable-linux-amd64.zip\n",
        "get_ipython().system_raw('./ngrok http 6006 &')\n",
        "! ps -ef | grep ngrok"
      ],
      "execution_count": 0,
      "outputs": []
    },
    {
      "metadata": {
        "id": "s_SRJwZyeskB",
        "colab_type": "code",
        "colab": {
          "base_uri": "https://localhost:8080/",
          "height": 65
        },
        "outputId": "ec1a7490-1bfe-4215-9c09-3b38c290dc57"
      },
      "cell_type": "code",
      "source": [
        "! curl -s http://localhost:4040/api/tunnels"
      ],
      "execution_count": 29,
      "outputs": [
        {
          "output_type": "stream",
          "text": [
            "{\"tunnels\":[{\"name\":\"command_line (http)\",\"uri\":\"/api/tunnels/command_line+%28http%29\",\"public_url\":\"http://331ddbde.ngrok.io\",\"proto\":\"http\",\"config\":{\"addr\":\"localhost:6006\",\"inspect\":true},\"metrics\":{\"conns\":{\"count\":6,\"gauge\":4,\"rate1\":0.013536188363841833,\"rate5\":0.0031982883938964364,\"rate15\":0.0012515068002193846,\"p50\":2163423591615.5,\"p90\":4026134241607,\"p95\":4026134241607,\"p99\":4026134241607},\"http\":{\"count\":918,\"rate1\":0.36653752010356544,\"rate5\":0.18342025041675078,\"rate15\":0.1477861651589673,\"p50\":2499040.5,\"p90\":4617233,\"p95\":4988568.049999999,\"p99\":5849714.329999995}}},{\"name\":\"command_line\",\"uri\":\"/api/tunnels/command_line\",\"public_url\":\"https://331ddbde.ngrok.io\",\"proto\":\"https\",\"config\":{\"addr\":\"localhost:6006\",\"inspect\":true},\"metrics\":{\"conns\":{\"count\":0,\"gauge\":0,\"rate1\":0,\"rate5\":0,\"rate15\":0,\"p50\":0,\"p90\":0,\"p95\":0,\"p99\":0},\"http\":{\"count\":0,\"rate1\":0,\"rate5\":0,\"rate15\":0,\"p50\":0,\"p90\":0,\"p95\":0,\"p99\":0}}}],\"uri\":\"/api/tunnels\"}\r\n"
          ],
          "name": "stdout"
        }
      ]
    },
    {
      "metadata": {
        "id": "reK_F8NCtLax",
        "colab_type": "code",
        "colab": {
          "base_uri": "https://localhost:8080/",
          "height": 107
        },
        "outputId": "b695f2eb-bfc6-4776-8804-f0f39ced185e"
      },
      "cell_type": "code",
      "source": [
        "! git clone https://github.com/jessedaniels/data_science.git"
      ],
      "execution_count": 31,
      "outputs": [
        {
          "output_type": "stream",
          "text": [
            "Cloning into 'data_science'...\n",
            "remote: Counting objects: 145, done.\u001b[K\n",
            "remote: Total 145 (delta 0), reused 0 (delta 0), pack-reused 145\u001b[K\n",
            "Receiving objects: 100% (145/145), 5.11 MiB | 7.06 MiB/s, done.\n",
            "Resolving deltas: 100% (54/54), done.\n"
          ],
          "name": "stdout"
        }
      ]
    },
    {
      "metadata": {
        "id": "wqT8DqO1uBvN",
        "colab_type": "code",
        "colab": {
          "base_uri": "https://localhost:8080/",
          "height": 35
        },
        "outputId": "1178f4dc-6a34-4680-9e8a-ef629c209645"
      },
      "cell_type": "code",
      "source": [
        "! ls"
      ],
      "execution_count": 32,
      "outputs": [
        {
          "output_type": "stream",
          "text": [
            "datalab  data_science  ngrok  ngrok-stable-linux-amd64.zip\r\n"
          ],
          "name": "stdout"
        }
      ]
    },
    {
      "metadata": {
        "id": "WFGjr-jWuEu-",
        "colab_type": "code",
        "colab": {
          "base_uri": "https://localhost:8080/",
          "height": 35
        },
        "outputId": "3a9a58fe-6022-4f87-cc3f-423f3f9da786"
      },
      "cell_type": "code",
      "source": [
        "cd data_science/"
      ],
      "execution_count": 33,
      "outputs": [
        {
          "output_type": "stream",
          "text": [
            "/content/data_science\n"
          ],
          "name": "stdout"
        }
      ]
    },
    {
      "metadata": {
        "id": "mfhGPqJnuHKU",
        "colab_type": "code",
        "colab": {
          "base_uri": "https://localhost:8080/",
          "height": 53
        },
        "outputId": "35679dc6-076d-4e6a-e47c-a46ecf8aec50"
      },
      "cell_type": "code",
      "source": [
        "ls"
      ],
      "execution_count": 34,
      "outputs": [
        {
          "output_type": "stream",
          "text": [
            "\u001b[0m\u001b[01;34mdata\u001b[0m/             \u001b[01;34mnn\u001b[0m/   \u001b[01;32mrun_vw_learner.sh\u001b[0m*  vw_wholesale_cust.py\r\n",
            "\u001b[01;34mlink-prediction\u001b[0m/  \u001b[01;34mrbm\u001b[0m/  \u001b[01;34mtopic_modeling\u001b[0m/\r\n"
          ],
          "name": "stdout"
        }
      ]
    },
    {
      "metadata": {
        "id": "VRkQrBiVuH6Z",
        "colab_type": "code",
        "colab": {
          "base_uri": "https://localhost:8080/",
          "height": 35
        },
        "outputId": "01604639-cd38-4745-cca1-b9f41bbfb465"
      },
      "cell_type": "code",
      "source": [
        "!vi run_vw_learner.sh"
      ],
      "execution_count": 35,
      "outputs": [
        {
          "output_type": "stream",
          "text": [
            "/bin/sh: 1: vi: not found\r\n"
          ],
          "name": "stdout"
        }
      ]
    },
    {
      "metadata": {
        "id": "1RQjTml_uMjG",
        "colab_type": "code",
        "colab": {
          "base_uri": "https://localhost:8080/",
          "height": 1009
        },
        "outputId": "84b365e5-2eb9-4ac0-804e-cde85600f5e3"
      },
      "cell_type": "code",
      "source": [
        "!apt install vim"
      ],
      "execution_count": 37,
      "outputs": [
        {
          "output_type": "stream",
          "text": [
            "Reading package lists... Done\n",
            "Building dependency tree       \n",
            "Reading state information... Done\n",
            "The following additional packages will be installed:\n",
            "  libgpm2 vim-common vim-runtime xxd\n",
            "Suggested packages:\n",
            "  gpm ctags vim-doc vim-scripts\n",
            "The following NEW packages will be installed:\n",
            "  libgpm2 vim vim-common vim-runtime xxd\n",
            "0 upgraded, 5 newly installed, 0 to remove and 0 not upgraded.\n",
            "Need to get 6,517 kB of archives.\n",
            "After this operation, 31.3 MB of additional disk space will be used.\n",
            "Get:1 http://archive.ubuntu.com/ubuntu artful/main amd64 xxd amd64 2:8.0.0197-4ubuntu5 [45.4 kB]\n",
            "Get:2 http://archive.ubuntu.com/ubuntu artful/main amd64 vim-common all 2:8.0.0197-4ubuntu5 [63.1 kB]\n",
            "Get:3 http://archive.ubuntu.com/ubuntu artful/main amd64 libgpm2 amd64 1.20.4-6.2 [14.6 kB]\n",
            "Get:4 http://archive.ubuntu.com/ubuntu artful/main amd64 vim-runtime all 2:8.0.0197-4ubuntu5 [5,317 kB]\n",
            "Get:5 http://archive.ubuntu.com/ubuntu artful/main amd64 vim amd64 2:8.0.0197-4ubuntu5 [1,077 kB]\n",
            "Fetched 6,517 kB in 0s (35.3 MB/s)\n",
            "\n",
            "\u001b7\u001b[0;23r\u001b8\u001b[1ASelecting previously unselected package xxd.\n",
            "(Reading database ... 18298 files and directories currently installed.)\n",
            "Preparing to unpack .../xxd_2%3a8.0.0197-4ubuntu5_amd64.deb ...\n",
            "\u001b7\u001b[24;0f\u001b[42m\u001b[30mProgress: [  0%]\u001b[49m\u001b[39m [..........................................................] \u001b8\u001b7\u001b[24;0f\u001b[42m\u001b[30mProgress: [  3%]\u001b[49m\u001b[39m [##........................................................] \u001b8Unpacking xxd (2:8.0.0197-4ubuntu5) ...\n",
            "\u001b7\u001b[24;0f\u001b[42m\u001b[30mProgress: [  7%]\u001b[49m\u001b[39m [####......................................................] \u001b8\u001b7\u001b[24;0f\u001b[42m\u001b[30mProgress: [ 11%]\u001b[49m\u001b[39m [######....................................................] \u001b8Selecting previously unselected package vim-common.\n",
            "Preparing to unpack .../vim-common_2%3a8.0.0197-4ubuntu5_all.deb ...\n",
            "\u001b7\u001b[24;0f\u001b[42m\u001b[30mProgress: [ 15%]\u001b[49m\u001b[39m [########..................................................] \u001b8Unpacking vim-common (2:8.0.0197-4ubuntu5) ...\n",
            "\u001b7\u001b[24;0f\u001b[42m\u001b[30mProgress: [ 19%]\u001b[49m\u001b[39m [###########...............................................] \u001b8\u001b7\u001b[24;0f\u001b[42m\u001b[30mProgress: [ 23%]\u001b[49m\u001b[39m [#############.............................................] \u001b8Selecting previously unselected package libgpm2:amd64.\n",
            "Preparing to unpack .../libgpm2_1.20.4-6.2_amd64.deb ...\n",
            "\u001b7\u001b[24;0f\u001b[42m\u001b[30mProgress: [ 26%]\u001b[49m\u001b[39m [###############...........................................] \u001b8Unpacking libgpm2:amd64 (1.20.4-6.2) ...\n",
            "\u001b7\u001b[24;0f\u001b[42m\u001b[30mProgress: [ 30%]\u001b[49m\u001b[39m [#################.........................................] \u001b8\u001b7\u001b[24;0f\u001b[42m\u001b[30mProgress: [ 34%]\u001b[49m\u001b[39m [####################......................................] \u001b8Selecting previously unselected package vim-runtime.\n",
            "Preparing to unpack .../vim-runtime_2%3a8.0.0197-4ubuntu5_all.deb ...\n",
            "\u001b7\u001b[24;0f\u001b[42m\u001b[30mProgress: [ 38%]\u001b[49m\u001b[39m [######################....................................] \u001b8Adding 'diversion of /usr/share/vim/vim80/doc/help.txt to /usr/share/vim/vim80/doc/help.txt.vim-tiny by vim-runtime'\n",
            "Adding 'diversion of /usr/share/vim/vim80/doc/tags to /usr/share/vim/vim80/doc/tags.vim-tiny by vim-runtime'\n",
            "Unpacking vim-runtime (2:8.0.0197-4ubuntu5) ...\n",
            "\u001b7\u001b[24;0f\u001b[42m\u001b[30mProgress: [ 42%]\u001b[49m\u001b[39m [########################..................................] \u001b8\u001b7\u001b[24;0f\u001b[42m\u001b[30mProgress: [ 46%]\u001b[49m\u001b[39m [##########################................................] \u001b8Selecting previously unselected package vim.\n",
            "Preparing to unpack .../vim_2%3a8.0.0197-4ubuntu5_amd64.deb ...\n",
            "\u001b7\u001b[24;0f\u001b[42m\u001b[30mProgress: [ 50%]\u001b[49m\u001b[39m [#############################.............................] \u001b8Unpacking vim (2:8.0.0197-4ubuntu5) ...\n",
            "\u001b7\u001b[24;0f\u001b[42m\u001b[30mProgress: [ 53%]\u001b[49m\u001b[39m [###############################...........................] \u001b8\u001b7\u001b[24;0f\u001b[42m\u001b[30mProgress: [ 57%]\u001b[49m\u001b[39m [#################################.........................] \u001b8Processing triggers for mime-support (3.60ubuntu1) ...\n",
            "Setting up xxd (2:8.0.0197-4ubuntu5) ...\n",
            "\u001b7\u001b[24;0f\u001b[42m\u001b[30mProgress: [ 61%]\u001b[49m\u001b[39m [###################################.......................] \u001b8\u001b7\u001b[24;0f\u001b[42m\u001b[30mProgress: [ 65%]\u001b[49m\u001b[39m [#####################################.....................] \u001b8Setting up libgpm2:amd64 (1.20.4-6.2) ...\n",
            "\u001b7\u001b[24;0f\u001b[42m\u001b[30mProgress: [ 69%]\u001b[49m\u001b[39m [########################################..................] \u001b8\u001b7\u001b[24;0f\u001b[42m\u001b[30mProgress: [ 73%]\u001b[49m\u001b[39m [##########################################................] \u001b8Processing triggers for libc-bin (2.26-0ubuntu2.1) ...\n",
            "Setting up vim-common (2:8.0.0197-4ubuntu5) ...\n",
            "\u001b7\u001b[24;0f\u001b[42m\u001b[30mProgress: [ 76%]\u001b[49m\u001b[39m [############################################..............] \u001b8\u001b7\u001b[24;0f\u001b[42m\u001b[30mProgress: [ 80%]\u001b[49m\u001b[39m [##############################################............] \u001b8Setting up vim-runtime (2:8.0.0197-4ubuntu5) ...\n",
            "\u001b7\u001b[24;0f\u001b[42m\u001b[30mProgress: [ 84%]\u001b[49m\u001b[39m [#################################################.........] \u001b8\u001b7\u001b[24;0f\u001b[42m\u001b[30mProgress: [ 88%]\u001b[49m\u001b[39m [###################################################.......] \u001b8Setting up vim (2:8.0.0197-4ubuntu5) ...\n",
            "\u001b7\u001b[24;0f\u001b[42m\u001b[30mProgress: [ 92%]\u001b[49m\u001b[39m [#####################################################.....] \u001b8update-alternatives: using /usr/bin/vim.basic to provide /usr/bin/vim (vim) in auto mode\n",
            "update-alternatives: using /usr/bin/vim.basic to provide /usr/bin/vimdiff (vimdiff) in auto mode\n",
            "update-alternatives: using /usr/bin/vim.basic to provide /usr/bin/rvim (rvim) in auto mode\n",
            "update-alternatives: using /usr/bin/vim.basic to provide /usr/bin/rview (rview) in auto mode\n",
            "update-alternatives: using /usr/bin/vim.basic to provide /usr/bin/vi (vi) in auto mode\n",
            "update-alternatives: using /usr/bin/vim.basic to provide /usr/bin/view (view) in auto mode\n",
            "update-alternatives: using /usr/bin/vim.basic to provide /usr/bin/ex (ex) in auto mode\n",
            "update-alternatives: using /usr/bin/vim.basic to provide /usr/bin/editor (editor) in auto mode\n",
            "\u001b7\u001b[24;0f\u001b[42m\u001b[30mProgress: [ 96%]\u001b[49m\u001b[39m [#######################################################...] \u001b8\n",
            "\u001b7\u001b[0;24r\u001b8\u001b[1A\u001b[J"
          ],
          "name": "stdout"
        }
      ]
    },
    {
      "metadata": {
        "id": "cRiettkFuOur",
        "colab_type": "code",
        "colab": {
          "base_uri": "https://localhost:8080/",
          "height": 71
        },
        "outputId": "b7540225-3b5d-45bf-c64a-01747c3725e8"
      },
      "cell_type": "code",
      "source": [
        "! cat run_vw_learner.sh"
      ],
      "execution_count": 39,
      "outputs": [
        {
          "output_type": "stream",
          "text": [
            "#!/bin/bash\r\n",
            "\r\n",
            "python vw_wholesale_cust.py | shuf | vw -k -c --passes 30 --oaa 2 --l2 0.001 --loss_function logistic --holdout_off\r\n"
          ],
          "name": "stdout"
        }
      ]
    },
    {
      "metadata": {
        "id": "pJsvUBLrueGI",
        "colab_type": "code",
        "colab": {}
      },
      "cell_type": "code",
      "source": [
        ""
      ],
      "execution_count": 0,
      "outputs": []
    }
  ]
}