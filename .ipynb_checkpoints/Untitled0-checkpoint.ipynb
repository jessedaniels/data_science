{
 "metadata": {
  "name": "",
  "signature": "sha256:030341cfa6b6691f1150210cbba88e67aa4a9dcda8afd149e81fe4f564b2d40a"
 },
 "nbformat": 3,
 "nbformat_minor": 0,
 "worksheets": []
}